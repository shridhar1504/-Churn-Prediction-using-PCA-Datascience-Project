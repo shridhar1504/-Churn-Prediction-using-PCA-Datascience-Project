{
 "cells": [
  {
   "cell_type": "markdown",
   "id": "40f49ecd",
   "metadata": {},
   "source": [
    "# PCA Churn Prediction - Bank Data"
   ]
  },
  {
   "cell_type": "markdown",
   "id": "d4e9b01e",
   "metadata": {},
   "source": [
    "***\n",
    "_**Importing the required libraries & packages**_"
   ]
  },
  {
   "cell_type": "code",
   "execution_count": 1,
   "id": "3b104d99",
   "metadata": {},
   "outputs": [],
   "source": [
    "import numpy as np\n",
    "import pandas as pd\n",
    "import os\n",
    "import matplotlib.pyplot as plt\n",
    "import seaborn as sns\n",
    "%matplotlib inline\n",
    "from matplotlib.pylab import rcParams\n",
    "rcParams['figure.figsize']=15,10\n",
    "from sklearn.preprocessing import StandardScaler\n",
    "from sklearn.model_selection import train_test_split\n",
    "from sklearn.decomposition import PCA\n",
    "from sklearn.linear_model import LogisticRegression\n",
    "from sklearn.tree import DecisionTreeClassifier\n",
    "from sklearn.ensemble import RandomForestClassifier\n",
    "from sklearn.metrics import accuracy_score,classification_report,confusion_matrix\n",
    "import pickle\n",
    "import warnings\n",
    "warnings.filterwarnings('ignore')"
   ]
  },
  {
   "cell_type": "markdown",
   "id": "096b5949",
   "metadata": {},
   "source": [
    "_**Changing The Default Working Directory Path & Reading the Dataset using Pandas Command**_"
   ]
  },
  {
   "cell_type": "code",
   "execution_count": 2,
   "id": "8f360e02",
   "metadata": {},
   "outputs": [],
   "source": [
    "os.chdir('C:\\\\Users\\\\Shridhar\\\\OneDrive\\\\Desktop\\\\Top Mentor\\\\Batch 74 Day 19')\n",
    "df=pd.read_csv('Bank Data Dimension Reduction.csv')"
   ]
  },
  {
   "cell_type": "markdown",
   "id": "adb2c716",
   "metadata": {},
   "source": [
    "## Data Cleaning\n",
    "_**Checking for the null values in all the columns of the dataset**_"
   ]
  },
  {
   "cell_type": "code",
   "execution_count": 3,
   "id": "e3c23499",
   "metadata": {
    "scrolled": false
   },
   "outputs": [
    {
     "data": {
      "text/plain": [
       "Index        0\n",
       "Interest    68\n",
       "Credit       0\n",
       "Gender      21\n",
       "Previous     7\n",
       "Duration    70\n",
       "Churn        0\n",
       "dtype: int64"
      ]
     },
     "execution_count": 3,
     "metadata": {},
     "output_type": "execute_result"
    }
   ],
   "source": [
    "df.isna().sum()"
   ]
  },
  {
   "cell_type": "markdown",
   "id": "318a6004",
   "metadata": {},
   "source": [
    "_**Dropping the column which is not needed for model fitting**_"
   ]
  },
  {
   "cell_type": "code",
   "execution_count": 4,
   "id": "7a2877b3",
   "metadata": {},
   "outputs": [],
   "source": [
    "df.drop(['Index'],axis=1,inplace=True)"
   ]
  },
  {
   "cell_type": "markdown",
   "id": "9961b4cf",
   "metadata": {},
   "source": [
    "_**Grouping by the <span style= \"color:red\">Gender</span> column to find out the maximum repeated values**_"
   ]
  },
  {
   "cell_type": "code",
   "execution_count": 5,
   "id": "be13bc28",
   "metadata": {
    "scrolled": true
   },
   "outputs": [
    {
     "data": {
      "text/plain": [
       "Gender\n",
       "0.0    290\n",
       "1.0    289\n",
       "dtype: int64"
      ]
     },
     "execution_count": 5,
     "metadata": {},
     "output_type": "execute_result"
    }
   ],
   "source": [
    "df.groupby('Gender').size()"
   ]
  },
  {
   "cell_type": "markdown",
   "id": "98fdbc13",
   "metadata": {},
   "source": [
    "_**Filling the null values of the <span style= \"color:red\">Gender</span> column with most frequent values**_"
   ]
  },
  {
   "cell_type": "code",
   "execution_count": 6,
   "id": "bd635db0",
   "metadata": {},
   "outputs": [],
   "source": [
    "df['Gender']=df['Gender'].fillna(0)"
   ]
  },
  {
   "cell_type": "markdown",
   "id": "d67f7f39",
   "metadata": {},
   "source": [
    "_**Grouping by the <span style= \"color:red\">Gender</span> column to find out the maximum repeated values after updating**_"
   ]
  },
  {
   "cell_type": "code",
   "execution_count": 7,
   "id": "37a76c4c",
   "metadata": {},
   "outputs": [
    {
     "data": {
      "text/plain": [
       "Gender\n",
       "0.0    311\n",
       "1.0    289\n",
       "dtype: int64"
      ]
     },
     "execution_count": 7,
     "metadata": {},
     "output_type": "execute_result"
    }
   ],
   "source": [
    "df.groupby('Gender').size()"
   ]
  },
  {
   "cell_type": "markdown",
   "id": "a66d9ebb",
   "metadata": {},
   "source": [
    "_**Finding out the value counts of the <span style= \"color:red\">Previous</span> column to find out the maximum repeated values**_"
   ]
  },
  {
   "cell_type": "code",
   "execution_count": 8,
   "id": "cbd4ab9b",
   "metadata": {},
   "outputs": [
    {
     "data": {
      "text/plain": [
       "0.0    302\n",
       "1.0    291\n",
       "Name: Previous, dtype: int64"
      ]
     },
     "execution_count": 8,
     "metadata": {},
     "output_type": "execute_result"
    }
   ],
   "source": [
    "df['Previous'].value_counts()"
   ]
  },
  {
   "cell_type": "markdown",
   "id": "57efc690",
   "metadata": {},
   "source": [
    "_**Filling the null values of the <span style= \"color:red\">Previous</span> column with most frequent values and Finding out the value counts of the <span style= \"color:red\">Previous</span> column to find out the maximum repeated values after updating**_"
   ]
  },
  {
   "cell_type": "code",
   "execution_count": 9,
   "id": "00441bfe",
   "metadata": {},
   "outputs": [
    {
     "data": {
      "text/plain": [
       "0.0    309\n",
       "1.0    291\n",
       "Name: Previous, dtype: int64"
      ]
     },
     "execution_count": 9,
     "metadata": {},
     "output_type": "execute_result"
    }
   ],
   "source": [
    "df['Previous']=df['Previous'].fillna(0)\n",
    "df['Previous'].value_counts()"
   ]
  },
  {
   "cell_type": "markdown",
   "id": "8725979a",
   "metadata": {},
   "source": [
    "_**Filling the null values of the <span style= \"color:red\">Interest</span> column with mean value of the same column**_"
   ]
  },
  {
   "cell_type": "code",
   "execution_count": 10,
   "id": "0b497788",
   "metadata": {},
   "outputs": [],
   "source": [
    "df['Interest'].fillna(df['Interest'].mean(),inplace=True)"
   ]
  },
  {
   "cell_type": "markdown",
   "id": "2685b7ff",
   "metadata": {},
   "source": [
    "_**Filling the null values of the <span style= \"color:red\">Duration</span> column with median values of the same column**_"
   ]
  },
  {
   "cell_type": "code",
   "execution_count": 11,
   "id": "364d15d9",
   "metadata": {},
   "outputs": [],
   "source": [
    "df['Duration'].fillna(df['Duration'].median(),inplace=True)"
   ]
  },
  {
   "cell_type": "markdown",
   "id": "84d061ab",
   "metadata": {},
   "source": [
    "_**Checking out the null values of the all columns after filling it out (Cross Reference)**_"
   ]
  },
  {
   "cell_type": "code",
   "execution_count": 12,
   "id": "1a898b2d",
   "metadata": {
    "scrolled": true
   },
   "outputs": [
    {
     "data": {
      "text/plain": [
       "Interest    0\n",
       "Credit      0\n",
       "Gender      0\n",
       "Previous    0\n",
       "Duration    0\n",
       "Churn       0\n",
       "dtype: int64"
      ]
     },
     "execution_count": 12,
     "metadata": {},
     "output_type": "execute_result"
    }
   ],
   "source": [
    "df.isna().sum()"
   ]
  },
  {
   "cell_type": "markdown",
   "id": "78e49549",
   "metadata": {},
   "source": [
    "_**Checking out the data types of all the columns in the dataset so that it can be converted to appropriate data types for model fitting**_"
   ]
  },
  {
   "cell_type": "code",
   "execution_count": 13,
   "id": "93dadc65",
   "metadata": {},
   "outputs": [
    {
     "data": {
      "text/plain": [
       "Interest    float64\n",
       "Credit        int64\n",
       "Gender      float64\n",
       "Previous    float64\n",
       "Duration    float64\n",
       "Churn        object\n",
       "dtype: object"
      ]
     },
     "execution_count": 13,
     "metadata": {},
     "output_type": "execute_result"
    }
   ],
   "source": [
    "df.dtypes"
   ]
  },
  {
   "cell_type": "markdown",
   "id": "15668c36",
   "metadata": {},
   "source": [
    "_**Changing the data types of <span style= \"color:red\">Gender</span>, <span style= \"color:red\">Previous</span> column from \"float\" to \"category\"**_"
   ]
  },
  {
   "cell_type": "code",
   "execution_count": 14,
   "id": "2fd11671",
   "metadata": {},
   "outputs": [],
   "source": [
    "df['Gender']=df['Gender'].astype('category')\n",
    "df['Previous']=df['Previous'].astype('category')"
   ]
  },
  {
   "cell_type": "markdown",
   "id": "291e6706",
   "metadata": {},
   "source": [
    "_**Label Encoding the <span style= \"color:red\">Churn</span> column**_"
   ]
  },
  {
   "cell_type": "code",
   "execution_count": 15,
   "id": "6bd8d295",
   "metadata": {},
   "outputs": [],
   "source": [
    "df['Churn']=df['Churn'].astype('category')\n",
    "df['Churn']=df['Churn'].cat.codes"
   ]
  },
  {
   "cell_type": "markdown",
   "id": "3d47fa1e",
   "metadata": {},
   "source": [
    "_**Assigning the dependent and independent variable**_"
   ]
  },
  {
   "cell_type": "code",
   "execution_count": 16,
   "id": "72bcf65a",
   "metadata": {},
   "outputs": [],
   "source": [
    "x=df.iloc[:,:-1]\n",
    "y=df.iloc[:,-1]"
   ]
  },
  {
   "cell_type": "markdown",
   "id": "5a78bfe9",
   "metadata": {},
   "source": [
    "## Data Preprocessing\n",
    "_**Standardizing the independent variable of the dataset**_"
   ]
  },
  {
   "cell_type": "code",
   "execution_count": 17,
   "id": "66507eec",
   "metadata": {},
   "outputs": [],
   "source": [
    "sc=StandardScaler()\n",
    "x=sc.fit_transform(x)"
   ]
  },
  {
   "cell_type": "markdown",
   "id": "c32c75da",
   "metadata": {},
   "source": [
    "_**Processing independent variable with Principal Component Analysis to get the importance of all the columns in the independent variable**_"
   ]
  },
  {
   "cell_type": "code",
   "execution_count": 18,
   "id": "4d3f5d87",
   "metadata": {},
   "outputs": [],
   "source": [
    "pca=PCA()\n",
    "pca_x=pca.fit_transform(x)"
   ]
  },
  {
   "cell_type": "markdown",
   "id": "ff23a84f",
   "metadata": {},
   "source": [
    "_**Getting the numeric value for the importances of columns of the independent variable**_"
   ]
  },
  {
   "cell_type": "code",
   "execution_count": 19,
   "id": "1e0f8cef",
   "metadata": {},
   "outputs": [
    {
     "data": {
      "text/plain": [
       "array([0.33943997, 0.20168854, 0.20083191, 0.18998087, 0.06805872])"
      ]
     },
     "execution_count": 19,
     "metadata": {},
     "output_type": "execute_result"
    }
   ],
   "source": [
    "pca.explained_variance_ratio_"
   ]
  },
  {
   "cell_type": "markdown",
   "id": "f6c29220",
   "metadata": {},
   "source": [
    "## Model Fitting\n",
    "_**Splitting the dependent variable & independent variable into training and test dataset using train test split**_"
   ]
  },
  {
   "cell_type": "code",
   "execution_count": 20,
   "id": "24dca3d1",
   "metadata": {
    "scrolled": true
   },
   "outputs": [],
   "source": [
    "x_train,x_test,y_train,y_test=train_test_split(x,y,test_size=0.2,random_state=33)"
   ]
  },
  {
   "cell_type": "markdown",
   "id": "a5610b2e",
   "metadata": {},
   "source": [
    "_**Fitting the Logistic Regression model with the dependent train and independent train variable and getting the Accuracy Score, Classification Report and Confusion Matrix between the predicted value and dependent test dataset.**_"
   ]
  },
  {
   "cell_type": "code",
   "execution_count": 21,
   "id": "b9a29ace",
   "metadata": {},
   "outputs": [
    {
     "name": "stdout",
     "output_type": "stream",
     "text": [
      "Accuracy Score: 0.7666666666666667 \n",
      "\n",
      "Confusion Matrix:\n",
      " [[ 0 28]\n",
      " [ 0 92]] \n",
      "\n",
      "Classification Report:\n",
      "               precision    recall  f1-score   support\n",
      "\n",
      "           0       0.00      0.00      0.00        28\n",
      "           1       0.77      1.00      0.87        92\n",
      "\n",
      "    accuracy                           0.77       120\n",
      "   macro avg       0.38      0.50      0.43       120\n",
      "weighted avg       0.59      0.77      0.67       120\n",
      "\n"
     ]
    }
   ],
   "source": [
    "LR=LogisticRegression()\n",
    "LR.fit(x_train,y_train)\n",
    "LR_pred=LR.predict(x_test)\n",
    "print('Accuracy Score:',accuracy_score(y_test,LR_pred),'\\n')\n",
    "print('Confusion Matrix:\\n',confusion_matrix(y_test,LR_pred),'\\n')\n",
    "print('Classification Report:\\n',classification_report(y_test,LR_pred))"
   ]
  },
  {
   "cell_type": "markdown",
   "id": "8cedc8e7",
   "metadata": {},
   "source": [
    "_**Fitting the Decision Tree Classifier model with the dependent train and independent train variable and getting the Accuracy Score, Classification Report and Confusion Matrix between the predicted value and dependent test dataset.**_"
   ]
  },
  {
   "cell_type": "code",
   "execution_count": 22,
   "id": "0bd3c62d",
   "metadata": {},
   "outputs": [
    {
     "name": "stdout",
     "output_type": "stream",
     "text": [
      "Accuracy Score: 0.675 \n",
      "\n",
      "Confusion Matrix:\n",
      " [[ 8 20]\n",
      " [19 73]] \n",
      "\n",
      "Classification Report:\n",
      "               precision    recall  f1-score   support\n",
      "\n",
      "           0       0.30      0.29      0.29        28\n",
      "           1       0.78      0.79      0.79        92\n",
      "\n",
      "    accuracy                           0.68       120\n",
      "   macro avg       0.54      0.54      0.54       120\n",
      "weighted avg       0.67      0.68      0.67       120\n",
      "\n"
     ]
    }
   ],
   "source": [
    "DT=DecisionTreeClassifier(random_state=99)\n",
    "DT.fit(x_train,y_train)\n",
    "DT_pred=DT.predict(x_test)\n",
    "print('Accuracy Score:',accuracy_score(y_test,DT_pred),'\\n')\n",
    "print('Confusion Matrix:\\n',confusion_matrix(y_test,DT_pred),'\\n')\n",
    "print('Classification Report:\\n',classification_report(y_test,DT_pred))"
   ]
  },
  {
   "cell_type": "markdown",
   "id": "1264c61d",
   "metadata": {},
   "source": [
    "_**_**Fitting the Random Forest Classifier model with the dependent train and independent train variable and getting the Accuracy Score, Classification Report and Confusion Matrix between the predicted value and dependent test dataset.**_"
   ]
  },
  {
   "cell_type": "code",
   "execution_count": 23,
   "id": "c36a5346",
   "metadata": {},
   "outputs": [
    {
     "name": "stdout",
     "output_type": "stream",
     "text": [
      "Accuracy Score: 0.6666666666666666 \n",
      "\n",
      "Confusion Matrix:\n",
      " [[ 1 27]\n",
      " [13 79]] \n",
      "\n",
      "Classification Report:\n",
      "               precision    recall  f1-score   support\n",
      "\n",
      "           0       0.07      0.04      0.05        28\n",
      "           1       0.75      0.86      0.80        92\n",
      "\n",
      "    accuracy                           0.67       120\n",
      "   macro avg       0.41      0.45      0.42       120\n",
      "weighted avg       0.59      0.67      0.62       120\n",
      "\n"
     ]
    }
   ],
   "source": [
    "RF=RandomForestClassifier(random_state=99)\n",
    "RF.fit(x_train,y_train)\n",
    "RF_pred=RF.predict(x_test)\n",
    "print('Accuracy Score:',accuracy_score(y_test,RF_pred),'\\n')\n",
    "print('Confusion Matrix:\\n',confusion_matrix(y_test,RF_pred),'\\n')\n",
    "print('Classification Report:\\n',classification_report(y_test,RF_pred))"
   ]
  },
  {
   "cell_type": "markdown",
   "id": "5fe0c40f",
   "metadata": {},
   "source": [
    "## Dimensional Reduction\n",
    "_**Processing independent variable with Principal Component Analysis of 2 components to get the importance of all the columns in the independent variable**_"
   ]
  },
  {
   "cell_type": "code",
   "execution_count": 24,
   "id": "bede1162",
   "metadata": {},
   "outputs": [],
   "source": [
    "pca1=PCA(n_components=2)\n",
    "pca_x1=pca1.fit_transform(x)"
   ]
  },
  {
   "cell_type": "markdown",
   "id": "4adf9ff3",
   "metadata": {},
   "source": [
    "_**Getting the numeric value for the importances of columns of the independent variable after reducing its dimensions**_"
   ]
  },
  {
   "cell_type": "code",
   "execution_count": 25,
   "id": "eb20c9dc",
   "metadata": {},
   "outputs": [
    {
     "data": {
      "text/plain": [
       "array([0.33943997, 0.20168854])"
      ]
     },
     "execution_count": 25,
     "metadata": {},
     "output_type": "execute_result"
    }
   ],
   "source": [
    "pca1.explained_variance_ratio_"
   ]
  },
  {
   "cell_type": "markdown",
   "id": "f1edbd32",
   "metadata": {},
   "source": [
    "_**Splitting the dependent variable & independent variable into training and test dataset using train test split after reducing the dimensions of the independent variable**_"
   ]
  },
  {
   "cell_type": "code",
   "execution_count": 26,
   "id": "cb74e8c6",
   "metadata": {},
   "outputs": [],
   "source": [
    "pca_x_train,pca_x_test,y_train,y_test=train_test_split(pca_x1,y,test_size=0.2,random_state=33)"
   ]
  },
  {
   "cell_type": "markdown",
   "id": "ca6519c1",
   "metadata": {},
   "source": [
    "_**Fitting the Logistic Regression model with the dependent train and independent train variable and getting the Accuracy Score, Classification Report and Confusion Matrix between the predicted value and dependent test dataset, after reducing the dimensions of the independent variable.**_"
   ]
  },
  {
   "cell_type": "code",
   "execution_count": 27,
   "id": "4c7e7e8a",
   "metadata": {},
   "outputs": [
    {
     "name": "stdout",
     "output_type": "stream",
     "text": [
      "Accuracy Score: 0.7666666666666667 \n",
      "\n",
      "Confusion Matrix:\n",
      " [[ 0 28]\n",
      " [ 0 92]] \n",
      "\n",
      "Classification Report:\n",
      "               precision    recall  f1-score   support\n",
      "\n",
      "           0       0.00      0.00      0.00        28\n",
      "           1       0.77      1.00      0.87        92\n",
      "\n",
      "    accuracy                           0.77       120\n",
      "   macro avg       0.38      0.50      0.43       120\n",
      "weighted avg       0.59      0.77      0.67       120\n",
      "\n"
     ]
    }
   ],
   "source": [
    "LR1=LogisticRegression()\n",
    "LR1.fit(pca_x_train,y_train)\n",
    "LR1_pred=LR1.predict(pca_x_test)\n",
    "print('Accuracy Score:',accuracy_score(y_test,LR1_pred),'\\n')\n",
    "print('Confusion Matrix:\\n',confusion_matrix(y_test,LR1_pred),'\\n')\n",
    "print('Classification Report:\\n',classification_report(y_test,LR1_pred))"
   ]
  },
  {
   "cell_type": "markdown",
   "id": "7d3cf0b7",
   "metadata": {},
   "source": [
    "_**Fitting the Decision Tree Classifier model with the dependent train and independent train variable and getting the Accuracy Score, Classification Report and Confusion Matrix between the predicted value and dependent test dataset, after reducing the dimensions of the independent variable.**_"
   ]
  },
  {
   "cell_type": "code",
   "execution_count": 28,
   "id": "a87279d3",
   "metadata": {},
   "outputs": [
    {
     "name": "stdout",
     "output_type": "stream",
     "text": [
      "Accuracy Score: 0.625 \n",
      "\n",
      "Confusion Matrix:\n",
      " [[ 9 19]\n",
      " [26 66]] \n",
      "\n",
      "Classification Report:\n",
      "               precision    recall  f1-score   support\n",
      "\n",
      "           0       0.26      0.32      0.29        28\n",
      "           1       0.78      0.72      0.75        92\n",
      "\n",
      "    accuracy                           0.62       120\n",
      "   macro avg       0.52      0.52      0.52       120\n",
      "weighted avg       0.66      0.62      0.64       120\n",
      "\n"
     ]
    }
   ],
   "source": [
    "DT1=DecisionTreeClassifier(random_state=99)\n",
    "DT1.fit(pca_x_train,y_train)\n",
    "DT1_pred=DT1.predict(pca_x_test)\n",
    "print('Accuracy Score:',accuracy_score(y_test,DT1_pred),'\\n')\n",
    "print('Confusion Matrix:\\n',confusion_matrix(y_test,DT1_pred),'\\n')\n",
    "print('Classification Report:\\n',classification_report(y_test,DT1_pred))"
   ]
  },
  {
   "cell_type": "markdown",
   "id": "4eb1899f",
   "metadata": {},
   "source": [
    "_**Fitting the Random Forest Classifier model with the dependent train and independent train variable and getting the Accuracy Score, Classification Report and Confusion Matrix between the predicted value and dependent test dataset, after reducing the dimensions of the independent variable.**_"
   ]
  },
  {
   "cell_type": "code",
   "execution_count": 29,
   "id": "9e3e4210",
   "metadata": {},
   "outputs": [
    {
     "name": "stdout",
     "output_type": "stream",
     "text": [
      "Accuracy Score: 0.6833333333333333 \n",
      "\n",
      "Confusion Matrix:\n",
      " [[ 6 22]\n",
      " [16 76]] \n",
      "\n",
      "Classification Report:\n",
      "               precision    recall  f1-score   support\n",
      "\n",
      "           0       0.27      0.21      0.24        28\n",
      "           1       0.78      0.83      0.80        92\n",
      "\n",
      "    accuracy                           0.68       120\n",
      "   macro avg       0.52      0.52      0.52       120\n",
      "weighted avg       0.66      0.68      0.67       120\n",
      "\n"
     ]
    }
   ],
   "source": [
    "RF1=RandomForestClassifier(random_state=99)\n",
    "RF1.fit(pca_x_train,y_train)\n",
    "RF1_pred=RF1.predict(pca_x_test)\n",
    "print('Accuracy Score:',accuracy_score(y_test,RF1_pred),'\\n')\n",
    "print('Confusion Matrix:\\n',confusion_matrix(y_test,RF1_pred),'\\n')\n",
    "print('Classification Report:\\n',classification_report(y_test,RF1_pred))"
   ]
  },
  {
   "cell_type": "markdown",
   "id": "38484aea",
   "metadata": {},
   "source": [
    "_**Processing independent variable with Principal Component Analysis of 4 components to get the importance of all the columns in the independent variable**_"
   ]
  },
  {
   "cell_type": "code",
   "execution_count": 30,
   "id": "10f13d1d",
   "metadata": {},
   "outputs": [],
   "source": [
    "pca2=PCA(n_components=4)\n",
    "pca_x2=pca2.fit_transform(x)"
   ]
  },
  {
   "cell_type": "markdown",
   "id": "1e360716",
   "metadata": {},
   "source": [
    "_**Getting the numeric value for the importances of columns of the independent variable after reducing its dimensions**_"
   ]
  },
  {
   "cell_type": "code",
   "execution_count": 31,
   "id": "84338f3d",
   "metadata": {},
   "outputs": [
    {
     "data": {
      "text/plain": [
       "array([0.33943997, 0.20168854, 0.20083191, 0.18998087])"
      ]
     },
     "execution_count": 31,
     "metadata": {},
     "output_type": "execute_result"
    }
   ],
   "source": [
    "pca2.explained_variance_ratio_"
   ]
  },
  {
   "cell_type": "markdown",
   "id": "575c0df9",
   "metadata": {},
   "source": [
    "_**Splitting the dependent variable & independent variable into training and test dataset using train test split after reducing the dimensions of the independent variable**_"
   ]
  },
  {
   "cell_type": "code",
   "execution_count": 32,
   "id": "c0f650ea",
   "metadata": {},
   "outputs": [],
   "source": [
    "pca_x_train1,pca_x_test1,y_train,y_test=train_test_split(pca_x2,y,test_size=0.2,random_state=33)"
   ]
  },
  {
   "cell_type": "markdown",
   "id": "004c52c6",
   "metadata": {},
   "source": [
    "_**Fitting the Logistic Regression model with the dependent train and independent train variable and getting the Accuracy Score, Classification Report and Confusion Matrix between the predicted value and dependent test dataset, after reducing the dimensions of the independent variable.**_"
   ]
  },
  {
   "cell_type": "code",
   "execution_count": 33,
   "id": "0d874910",
   "metadata": {},
   "outputs": [
    {
     "name": "stdout",
     "output_type": "stream",
     "text": [
      "Accuracy Score: 0.7666666666666667 \n",
      "\n",
      "Confusion Matrix:\n",
      " [[ 0 28]\n",
      " [ 0 92]] \n",
      "\n",
      "Classification Report:\n",
      "               precision    recall  f1-score   support\n",
      "\n",
      "           0       0.00      0.00      0.00        28\n",
      "           1       0.77      1.00      0.87        92\n",
      "\n",
      "    accuracy                           0.77       120\n",
      "   macro avg       0.38      0.50      0.43       120\n",
      "weighted avg       0.59      0.77      0.67       120\n",
      "\n"
     ]
    }
   ],
   "source": [
    "LR2=LogisticRegression()\n",
    "LR2.fit(pca_x_train1,y_train)\n",
    "LR2_pred=LR2.predict(pca_x_test1)\n",
    "print('Accuracy Score:',accuracy_score(y_test,LR2_pred),'\\n')\n",
    "print('Confusion Matrix:\\n',confusion_matrix(y_test,LR2_pred),'\\n')\n",
    "print('Classification Report:\\n',classification_report(y_test,LR2_pred))"
   ]
  },
  {
   "cell_type": "markdown",
   "id": "e6f0563c",
   "metadata": {},
   "source": [
    "_**Fitting the Decision Tree Classifier model with the dependent train and independent train variable and getting the Accuracy Score, Classification Report and Confusion Matrix between the predicted value and dependent test dataset, after reducing the dimensions of the independent variable.**_"
   ]
  },
  {
   "cell_type": "code",
   "execution_count": 34,
   "id": "034d943c",
   "metadata": {},
   "outputs": [
    {
     "name": "stdout",
     "output_type": "stream",
     "text": [
      "Accuracy Score: 0.5666666666666667 \n",
      "\n",
      "Confusion Matrix:\n",
      " [[ 2 26]\n",
      " [26 66]] \n",
      "\n",
      "Classification Report:\n",
      "               precision    recall  f1-score   support\n",
      "\n",
      "           0       0.07      0.07      0.07        28\n",
      "           1       0.72      0.72      0.72        92\n",
      "\n",
      "    accuracy                           0.57       120\n",
      "   macro avg       0.39      0.39      0.39       120\n",
      "weighted avg       0.57      0.57      0.57       120\n",
      "\n"
     ]
    }
   ],
   "source": [
    "DT2=DecisionTreeClassifier(random_state=99)\n",
    "DT2.fit(pca_x_train1,y_train)\n",
    "DT2_pred=DT2.predict(pca_x_test1)\n",
    "print('Accuracy Score:',accuracy_score(y_test,DT2_pred),'\\n')\n",
    "print('Confusion Matrix:\\n',confusion_matrix(y_test,DT2_pred),'\\n')\n",
    "print('Classification Report:\\n',classification_report(y_test,DT2_pred))"
   ]
  },
  {
   "cell_type": "markdown",
   "id": "b41c186e",
   "metadata": {},
   "source": [
    "_**Fitting the Random Forest Classifier model with the dependent train and independent train variable and getting the Accuracy Score, Classification Report and Confusion Matrix between the predicted value and dependent test dataset, after reducing the dimensions of the independent variable.**_"
   ]
  },
  {
   "cell_type": "code",
   "execution_count": 35,
   "id": "908e90fe",
   "metadata": {},
   "outputs": [
    {
     "name": "stdout",
     "output_type": "stream",
     "text": [
      "Accuracy Score: 0.6583333333333333 \n",
      "\n",
      "Confusion Matrix:\n",
      " [[ 3 25]\n",
      " [16 76]] \n",
      "\n",
      "Classification Report:\n",
      "               precision    recall  f1-score   support\n",
      "\n",
      "           0       0.16      0.11      0.13        28\n",
      "           1       0.75      0.83      0.79        92\n",
      "\n",
      "    accuracy                           0.66       120\n",
      "   macro avg       0.46      0.47      0.46       120\n",
      "weighted avg       0.61      0.66      0.63       120\n",
      "\n"
     ]
    }
   ],
   "source": [
    "RF2=RandomForestClassifier(random_state=99)\n",
    "RF2.fit(pca_x_train1,y_train)\n",
    "RF2_pred=RF2.predict(pca_x_test1)\n",
    "print('Accuracy Score:',accuracy_score(y_test,RF2_pred),'\\n')\n",
    "print('Confusion Matrix:\\n',confusion_matrix(y_test,RF2_pred),'\\n')\n",
    "print('Classification Report:\\n',classification_report(y_test,RF2_pred))"
   ]
  },
  {
   "cell_type": "markdown",
   "id": "71b7a252",
   "metadata": {},
   "source": [
    "_**Create the pickle file of the model with the highest accuracy score with the model name**_"
   ]
  },
  {
   "cell_type": "code",
   "execution_count": 36,
   "id": "e0ce42c0",
   "metadata": {},
   "outputs": [],
   "source": [
    "pickle.dump(LR,open('PCA pickle.pkl','wb'))"
   ]
  },
  {
   "cell_type": "markdown",
   "id": "77ac51d5",
   "metadata": {},
   "source": [
    "## Model Testing\n",
    "_**Loading the pickle file**_"
   ]
  },
  {
   "cell_type": "code",
   "execution_count": 37,
   "id": "fd0a3137",
   "metadata": {},
   "outputs": [],
   "source": [
    "model=pickle.load(open('PCA pickle.pkl','rb'))"
   ]
  },
  {
   "cell_type": "markdown",
   "id": "1798dbb9",
   "metadata": {},
   "source": [
    "_**Predicting the independent variable using the loaded pickle file and getting the accuracy score, Confusion Matrix and Classification Report of the complete data**_"
   ]
  },
  {
   "cell_type": "code",
   "execution_count": 38,
   "id": "620a59df",
   "metadata": {},
   "outputs": [
    {
     "name": "stdout",
     "output_type": "stream",
     "text": [
      "Accuracy Score: 0.7583333333333333 \n",
      "\n",
      "Confusion Matrix:\n",
      " [[  0 145]\n",
      " [  0 455]] \n",
      "\n",
      "Classification Report:\n",
      "               precision    recall  f1-score   support\n",
      "\n",
      "           0       0.00      0.00      0.00       145\n",
      "           1       0.76      1.00      0.86       455\n",
      "\n",
      "    accuracy                           0.76       600\n",
      "   macro avg       0.38      0.50      0.43       600\n",
      "weighted avg       0.58      0.76      0.65       600\n",
      "\n"
     ]
    }
   ],
   "source": [
    "y_fpred=model.predict(x)\n",
    "print('Accuracy Score:',accuracy_score(y,y_fpred),'\\n')\n",
    "print('Confusion Matrix:\\n',confusion_matrix(y,y_fpred),'\\n')\n",
    "print('Classification Report:\\n',classification_report(y,y_fpred))"
   ]
  },
  {
   "cell_type": "markdown",
   "id": "10d6a54c",
   "metadata": {},
   "source": [
    "_**Plotting the line graph to represent the Accuracy between Predicted value and Actual Value and saving the PNG file**_"
   ]
  },
  {
   "cell_type": "code",
   "execution_count": 39,
   "id": "ebf20290",
   "metadata": {
    "scrolled": true
   },
   "outputs": [
    {
     "data": {
      "image/png": "[encoded data removed]",
      "text/plain": [
       "<Figure size 1500x1000 with 1 Axes>"
      ]
     },
     "metadata": {},
     "output_type": "display_data"
    }
   ],
   "source": [
    "sns.set_style('darkgrid')\n",
    "plt.plot(y,y_fpred)\n",
    "plt.xlabel('Actual value')\n",
    "plt.ylabel('Predicted value')\n",
    "plt.title('Accuracy of Predicted value and Actual Value')\n",
    "plt.savefig('Accuracy of Predicted value and Actual Value.png')\n",
    "plt.show()"
   ]
  }
 ],
 "metadata": {
  "kernelspec": {
   "display_name": "Python 3 (ipykernel)",
   "language": "python",
   "name": "python3"
  },
  "language_info": {
   "codemirror_mode": {
    "name": "ipython",
    "version": 3
   },
   "file_extension": ".py",
   "mimetype": "text/x-python",
   "name": "python",
   "nbconvert_exporter": "python",
   "pygments_lexer": "ipython3",
   "version": "3.9.13"
  }
 },
 "nbformat": 4,
 "nbformat_minor": 5
}
